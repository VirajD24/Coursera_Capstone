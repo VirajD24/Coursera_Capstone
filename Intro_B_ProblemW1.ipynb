{
  "nbformat": 4,
  "nbformat_minor": 0,
  "metadata": {
    "colab": {
      "name": "Intro/B-ProblemW1.ipynb",
      "provenance": [],
      "collapsed_sections": [],
      "authorship_tag": "ABX9TyO9dVq32cPubiyXHIt8t2rc"
    },
    "kernelspec": {
      "name": "python3",
      "display_name": "Python 3"
    },
    "language_info": {
      "name": "python"
    }
  },
  "cells": [
    {
      "cell_type": "markdown",
      "metadata": {
        "collapsed": true,
        "id": "nMzdd6s494Fj"
      },
      "source": [
        "# Capstone Project - The Battle of the Neighborhoods (Week 1)"
      ]
    },
    {
      "cell_type": "markdown",
      "metadata": {
        "id": "-eVwXpGW94Fo"
      },
      "source": [
        "## Index\n",
        "* [Introduction/Business Problem](#introduction)\n"
      ]
    },
    {
      "cell_type": "markdown",
      "metadata": {
        "id": "ddRQkSR894Fp"
      },
      "source": [
        "\n",
        "\n",
        "## Introduction/Business Problem <a name=\"introduction\"></a>"
      ]
    },
    {
      "cell_type": "markdown",
      "metadata": {
        "id": "twQozual94Fq"
      },
      "source": [
        "The City of New York, is the most populated city in the USA. It is the financial capital of USA.There are lots of business opportunities and startup prospects.\n",
        "\n",
        "This also means that the market is highly competitive. Being the **financial hub** of the world, **capital needed** to start a business is higher than the average. On top of that competition is proportionally high. All these factors suggest that before the establishment of any sort of a service based business, careful analyzation needs to be done in order to gain insights: maximise returns and minimise risks. \n",
        "\n",
        "The location where a restaurant starts is more important than its future expansion locations. It should be a suitable area where the demand for that particular sort of flavour is high and the number of people commuting to/via that location is high too.\n",
        "\n",
        "Factors necessary to formulate the loaction include:\n",
        "1. Population.\n",
        "2. Demographics.\n",
        "4. Venues such as commercial buildings, gyms, parks etc.\n",
        "5. Population per sq.km.\n",
        "6. Competitors.\n",
        "7. Sales of competitors\n",
        "8. Segmentation of the Borough\n",
        "9. Untapped markets\n",
        "10. Saturated markets \n",
        "\n",
        "And so many more.\n",
        "\n",
        "Target Audience: Any Investor(s) interested in starting a restaurant in the city of New York, USA. "
      ]
    },
    {
      "cell_type": "code",
      "metadata": {
        "id": "HPb68SkNUPMH"
      },
      "source": [
        ""
      ],
      "execution_count": null,
      "outputs": []
    }
  ]
}