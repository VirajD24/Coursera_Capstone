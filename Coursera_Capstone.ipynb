{
  "nbformat": 4,
  "nbformat_minor": 0,
  "metadata": {
    "colab": {
      "name": "Coursera_Capstone",
      "provenance": [],
      "collapsed_sections": [],
      "authorship_tag": "ABX9TyPahmioTP+xmzl1onhBEJrg"
    },
    "kernelspec": {
      "name": "python3",
      "display_name": "Python 3"
    },
    "language_info": {
      "name": "python"
    }
  },
  "cells": [
    {
      "cell_type": "markdown",
      "metadata": {
        "id": "SGpiFfRGeIiJ"
      },
      "source": [
        "This notebook will be used by me for the data science capstone project\n",
        "I will import 2 python libraries and print a statement first."
      ]
    },
    {
      "cell_type": "code",
      "metadata": {
        "id": "TjoMejwNwkJO"
      },
      "source": [
        "import pandas as pd  #importing pandas\n",
        "import numpy as np   #importing numpy"
      ],
      "execution_count": 4,
      "outputs": []
    },
    {
      "cell_type": "code",
      "metadata": {
        "colab": {
          "base_uri": "https://localhost:8080/"
        },
        "id": "NbM2QhqKws_q",
        "outputId": "a76deddf-f164-48d5-f52c-fb097b89b49a"
      },
      "source": [
        "print(\" Hello Capstone Project Course!\")  #printing statement"
      ],
      "execution_count": 5,
      "outputs": [
        {
          "output_type": "stream",
          "text": [
            " Hello Capstone Project Course!\n"
          ],
          "name": "stdout"
        }
      ]
    }
  ]
}